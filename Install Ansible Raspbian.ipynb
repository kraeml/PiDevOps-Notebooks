{
 "cells": [
  {
   "cell_type": "markdown",
   "metadata": {},
   "source": [
    "# Install Ansible on Raspbian"
   ]
  },
  {
   "cell_type": "code",
   "execution_count": 1,
   "metadata": {},
   "outputs": [
    {
     "name": "stdout",
     "output_type": "stream",
     "text": [
      "docker.list  nodesource.list  raspberrypi.org.list  stretch.list\n"
     ]
    }
   ],
   "source": [
    "ls /etc/apt/sources.list.d"
   ]
  },
  {
   "cell_type": "code",
   "execution_count": 6,
   "metadata": {},
   "outputs": [
    {
     "name": "stdout",
     "output_type": "stream",
     "text": [
      "deb http://httpredir.debian.org/debian jessie-backports main contrib non-free\n",
      "deb-src http://httpredir.debian.org/debian jessie-backports main contrib non-free\n"
     ]
    }
   ],
   "source": [
    "echo -e \"deb http://httpredir.debian.org/debian jessie-backports main contrib non-free\n",
    "deb-src http://httpredir.debian.org/debian jessie-backports main contrib non-free\" | sudo tee /etc/apt/sources.list.d/ansible.list"
   ]
  },
  {
   "cell_type": "code",
   "execution_count": 7,
   "metadata": {},
   "outputs": [
    {
     "name": "stdout",
     "output_type": "stream",
     "text": [
      "ansible.list  docker.list  nodesource.list  raspberrypi.org.list  stretch.list\n"
     ]
    }
   ],
   "source": [
    "ls /etc/apt/sources.list.d"
   ]
  },
  {
   "cell_type": "code",
   "execution_count": 11,
   "metadata": {
    "scrolled": false
   },
   "outputs": [
    {
     "name": "stdout",
     "output_type": "stream",
     "text": [
      "OK   http://mirrordirector.raspbian.org jessie InRelease\n",
      "OK   http://mirrordirector.raspbian.org stretch InRelease                      \n",
      "OK   http://archive.raspberrypi.org jessie InRelease                           \n",
      "OK   http://mirrordirector.raspbian.org jessie/main armhf Packages             \n",
      "OK   http://mirrordirector.raspbian.org jessie/contrib armhf Packages      \n",
      "OK   http://mirrordirector.raspbian.org jessie/non-free armhf Packages\n",
      "OK   https://apt.dockerproject.org raspbian-jessie InRelease                   \n",
      "OK   http://mirrordirector.raspbian.org jessie/firmware armhf Packages         \n",
      "Holen: 1 http://httpredir.debian.org jessie-backports InRelease [166 kB]       \n",
      "OK   https://deb.nodesource.com jessie InRelease                               \n",
      "OK   http://archive.raspberrypi.org jessie/main armhf Packages                 \n",
      "OK   http://mirrordirector.raspbian.org stretch/main armhf Packages\n",
      "OK   https://apt.dockerproject.org raspbian-jessie/main armhf Packages\n",
      "OK   https://deb.nodesource.com jessie/main Sources                            \n",
      "Ign http://httpredir.debian.org jessie-backports InRelease                     \n",
      "OK   http://mirrordirector.raspbian.org stretch/contrib armhf Packages         \n",
      "Holen: 2 https://apt.dockerproject.org raspbian-jessie/main Translation-de_DE [454 B]\n",
      "OK   https://deb.nodesource.com jessie/main armhf Packages\n",
      "Holen: 3 https://apt.dockerproject.org raspbian-jessie/main Translation-de [454 B]\n",
      "Holen: 4 https://deb.nodesource.com jessie/main Translation-de_DE [162 B]      \n",
      "OK   http://mirrordirector.raspbian.org stretch/non-free armhf Packages        \n",
      "Ign http://archive.raspberrypi.org jessie/main Translation-de_DE               \n",
      "Holen: 5 https://apt.dockerproject.org raspbian-jessie/main Translation-en [454 B]\n",
      "Holen: 6 https://deb.nodesource.com jessie/main Translation-de [162 B]         \n",
      "Holen: 7 https://apt.dockerproject.org raspbian-jessie/main Translation-de_DE [454 B]\n",
      "Ign http://archive.raspberrypi.org jessie/main Translation-de                  \n",
      "Ign http://archive.raspberrypi.org jessie/main Translation-en                  \n",
      "OK   http://mirrordirector.raspbian.org stretch/rpi armhf Packages             \n",
      "Holen: 8 http://httpredir.debian.org jessie-backports/main Sources/DiffIndex [27,8 kB]\n",
      "Holen: 9 https://apt.dockerproject.org raspbian-jessie/main Translation-de [454 B]\n",
      "Holen: 10 https://deb.nodesource.com jessie/main Translation-en [162 B]\n",
      "Holen: 11 https://deb.nodesource.com jessie/main Translation-de_DE [162 B]\n",
      "Holen: 12 http://httpredir.debian.org jessie-backports/contrib Sources/DiffIndex [27,8 kB]\n",
      "Holen: 13 https://apt.dockerproject.org raspbian-jessie/main Translation-en [454 B]\n",
      "Holen: 14 https://apt.dockerproject.org raspbian-jessie/main Translation-de_DE [454 B]\n",
      "Holen: 15 https://apt.dockerproject.org raspbian-jessie/main Translation-de [454 B]\n",
      "Holen: 16 https://deb.nodesource.com jessie/main Translation-de [162 B]        \n",
      "Holen: 17 https://apt.dockerproject.org raspbian-jessie/main Translation-en [454 B]\n",
      "Holen: 18 https://deb.nodesource.com jessie/main Translation-en [162 B]        \n",
      "Holen: 19 https://apt.dockerproject.org raspbian-jessie/main Translation-de_DE [454 B]\n",
      "Holen: 20 http://httpredir.debian.org jessie-backports/non-free Sources/DiffIndex [22,5 kB]\n",
      "Holen: 21 https://apt.dockerproject.org raspbian-jessie/main Translation-de [454 B]\n",
      "Holen: 22 https://deb.nodesource.com jessie/main Translation-de_DE [162 B]     \n",
      "Holen: 23 http://httpredir.debian.org jessie-backports/main armhf Packages/DiffIndex [27,8 kB]\n",
      "Holen: 24 https://apt.dockerproject.org raspbian-jessie/main Translation-en [454 B]\n",
      "Holen: 25 https://apt.dockerproject.org raspbian-jessie/main Translation-de_DE [454 B]\n",
      "Ign https://apt.dockerproject.org raspbian-jessie/main Translation-de_DE\n",
      "Holen: 26 https://deb.nodesource.com jessie/main Translation-de [162 B]\n",
      "Holen: 27 http://httpredir.debian.org jessie-backports/contrib armhf Packages/DiffIndex [25,0 kB]\n",
      "Holen: 28 https://apt.dockerproject.org raspbian-jessie/main Translation-de [454 B]\n",
      "Ign https://apt.dockerproject.org raspbian-jessie/main Translation-de \n",
      "Holen: 29 https://deb.nodesource.com jessie/main Translation-en [162 B]        \n",
      "Holen: 30 https://apt.dockerproject.org raspbian-jessie/main Translation-en [454 B]\n",
      "Holen: 31 http://httpredir.debian.org jessie-backports/non-free armhf Packages/DiffIndex [7.546 B]\n",
      "Ign https://apt.dockerproject.org raspbian-jessie/main Translation-en          \n",
      "Holen: 32 https://deb.nodesource.com jessie/main Translation-de_DE [162 B]     \n",
      "OK   http://httpredir.debian.org jessie-backports/contrib Translation-en       \n",
      "OK   http://httpredir.debian.org jessie-backports/main Translation-en          \n",
      "Holen: 33 https://deb.nodesource.com jessie/main Translation-de [162 B]\n",
      "Holen: 34 https://deb.nodesource.com jessie/main Translation-en [162 B]\n",
      "Holen: 35 https://deb.nodesource.com jessie/main Translation-de_DE [162 B]\n",
      "Ign https://deb.nodesource.com jessie/main Translation-de_DE          \n",
      "Holen: 36 https://deb.nodesource.com jessie/main Translation-de [162 B]\n",
      "Ign https://deb.nodesource.com jessie/main Translation-de\n",
      "Holen: 37 https://deb.nodesource.com jessie/main Translation-en [162 B]\n",
      "Ign https://deb.nodesource.com jessie/main Translation-en             \n",
      "OK   http://httpredir.debian.org jessie-backports/non-free Translation-en\n",
      "Ign http://mirrordirector.raspbian.org jessie/contrib Translation-de_DE        \n",
      "Ign http://mirrordirector.raspbian.org jessie/contrib Translation-de  \n",
      "Ign http://mirrordirector.raspbian.org jessie/contrib Translation-en  \n",
      "Ign http://mirrordirector.raspbian.org jessie/firmware Translation-de_DE       \n",
      "Ign http://mirrordirector.raspbian.org jessie/firmware Translation-de          \n",
      "Ign http://mirrordirector.raspbian.org jessie/firmware Translation-en          \n",
      "Ign http://mirrordirector.raspbian.org jessie/main Translation-de_DE           \n",
      "Ign http://mirrordirector.raspbian.org jessie/main Translation-de              \n",
      "Ign http://mirrordirector.raspbian.org jessie/main Translation-en     \n",
      "Ign http://mirrordirector.raspbian.org jessie/non-free Translation-de_DE\n",
      "Ign http://mirrordirector.raspbian.org jessie/non-free Translation-de          \n",
      "Ign http://mirrordirector.raspbian.org jessie/non-free Translation-en          \n",
      "Ign http://mirrordirector.raspbian.org stretch/contrib Translation-de_DE       \n",
      "Ign http://mirrordirector.raspbian.org stretch/contrib Translation-de          \n",
      "Ign http://mirrordirector.raspbian.org stretch/contrib Translation-en          \n",
      "Ign http://mirrordirector.raspbian.org stretch/main Translation-de_DE \n",
      "Ign http://mirrordirector.raspbian.org stretch/main Translation-de    \n",
      "Ign http://mirrordirector.raspbian.org stretch/main Translation-en    \n",
      "Ign http://mirrordirector.raspbian.org stretch/non-free Translation-de_DE\n",
      "Ign http://mirrordirector.raspbian.org stretch/non-free Translation-de\n",
      "Ign http://mirrordirector.raspbian.org stretch/non-free Translation-en         \n",
      "Ign http://mirrordirector.raspbian.org stretch/rpi Translation-de_DE           \n",
      "Ign http://mirrordirector.raspbian.org stretch/rpi Translation-de     \n",
      "Ign http://mirrordirector.raspbian.org stretch/rpi Translation-en     \n",
      "Ign http://httpredir.debian.org jessie-backports/contrib Translation-de_DE     \n",
      "Ign http://httpredir.debian.org jessie-backports/contrib Translation-de        \n",
      "Ign http://httpredir.debian.org jessie-backports/main Translation-de_DE        \n",
      "Ign http://httpredir.debian.org jessie-backports/main Translation-de           \n",
      "Ign http://httpredir.debian.org jessie-backports/non-free Translation-de_DE    \n",
      "Ign http://httpredir.debian.org jessie-backports/non-free Translation-de       \n",
      "Es wurden 304 kB in 18 s geholt (16,2 kB/s).                                   \n",
      "Paketlisten werden gelesen... Fertig\n",
      "W: GPG-Fehler: http://httpredir.debian.org jessie-backports InRelease: Die folgenden Signaturen konnten nicht überprüft werden, weil ihr öffentlicher Schlüssel nicht verfügbar ist: NO_PUBKEY 8B48AD6246925553 NO_PUBKEY 7638D0442B90D010\n",
      "Paketlisten werden gelesen... Fertig\n",
      "Abhängigkeitsbaum wird aufgebaut.       \n",
      "Statusinformationen werden eingelesen.... Fertig\n",
      "Die folgenden zusätzlichen Pakete werden installiert:\n",
      "  ieee-data python-crypto python-ecdsa python-httplib2 python-jinja2\n"
     ]
    },
    {
     "name": "stdout",
     "output_type": "stream",
     "text": [
      "  python-kerberos python-markupsafe python-netaddr python-paramiko\n",
      "  python-pkg-resources python-selinux python-six python-xmltodict python-yaml\n",
      "Vorgeschlagene Pakete:\n",
      "  cowsay sshpass python-crypto-dbg python-crypto-doc python-jinja2-doc ipython\n",
      "  python-netaddr-docs python-setuptools\n",
      "Empfohlene Pakete:\n",
      "  python-winrm\n",
      "Die folgenden NEUEN Pakete werden installiert:\n",
      "  ansible ieee-data python-crypto python-ecdsa python-httplib2 python-jinja2\n",
      "  python-kerberos python-markupsafe python-netaddr python-paramiko\n",
      "  python-pkg-resources python-selinux python-six python-xmltodict python-yaml\n",
      "0 aktualisiert, 15 neu installiert, 0 zu entfernen und 67 nicht aktualisiert.\n",
      "Es müssen 3.732 kB an Archiven heruntergeladen werden.\n",
      "Nach dieser Operation werden 22,8 MB Plattenplatz zusätzlich benutzt.\n",
      "WARNUNG: Die folgenden Pakete können nicht authentifiziert werden!\n",
      "  python-jinja2 python-six python-pkg-resources python-netaddr ansible\n",
      "Holen: 1 http://httpredir.debian.org/debian/ jessie-backports/main python-jinja2 all 2.8-1~bpo8+1 [117 kB]\n",
      "Holen: 2 http://httpredir.debian.org/debian/ jessie-backports/main python-six all 1.10.0-3~bpo8+1 [14,6 kB]\n",
      "Holen: 3 http://httpredir.debian.org/debian/ jessie-backports/main python-pkg-resources all 33.1.1-1~bpo8+1 [167 kB]\n",
      "Holen: 4 http://mirrordirector.raspbian.org/raspbian/ jessie/main python-xmltodict all 0.9.0-1 [10,2 kB]\n",
      "Holen: 5 http://httpredir.debian.org/debian/ jessie-backports/main python-netaddr all 0.7.18-1~bpo8+1 [188 kB]\n",
      "Holen: 6 http://mirrordirector.raspbian.org/raspbian/ jessie/main python-crypto armhf 2.6.1-5+deb8u1 [249 kB]\n",
      "Holen: 7 http://httpredir.debian.org/debian/ jessie-backports/main ansible all 2.2.1.0-2~bpo8+1 [1.684 kB]\n",
      "Holen: 8 http://mirrordirector.raspbian.org/raspbian/ jessie/main python-markupsafe armhf 0.23-1 [15,7 kB]\n",
      "Holen: 9 http://mirrordirector.raspbian.org/raspbian/ jessie/main python-ecdsa all 0.11-1 [35,1 kB]\n",
      "Holen: 10 http://mirrordirector.raspbian.org/raspbian/ jessie/main python-paramiko all 1.15.1-1 [107 kB]\n",
      "Holen: 11 http://mirrordirector.raspbian.org/raspbian/ jessie/main python-yaml armhf 3.11-2 [107 kB]\n",
      "Holen: 12 http://mirrordirector.raspbian.org/raspbian/ jessie/main python-httplib2 all 0.9+dfsg-2 [39,0 kB]\n",
      "Holen: 13 http://mirrordirector.raspbian.org/raspbian/ jessie/main ieee-data all 20150531.1~deb8u2 [830 kB]\n",
      "Holen: 14 http://mirrordirector.raspbian.org/raspbian/ jessie/main python-kerberos armhf 1.1.5-0.1+deb8u1 [20,8 kB]\n",
      "Holen: 15 http://mirrordirector.raspbian.org/raspbian/ jessie/main python-selinux armhf 2.3-2 [150 kB]\n",
      "Es wurden 3.732 kB in 2 s geholt (1.610 kB/s).\n",
      "debconf: unable to initialize frontend: Dialog\n",
      "debconf: (Dialog frontend will not work on a dumb terminal, an emacs shell buffer, or without a controlling terminal.)\n",
      "debconf: falling back to frontend: Readline\n",
      "Vormals nicht ausgewähltes Paket python-xmltodict wird gewählt.\n",
      "(Lese Datenbank ... 73430 Dateien und Verzeichnisse sind derzeit installiert.)\n",
      "Vorbereitung zum Entpacken von .../python-xmltodict_0.9.0-1_all.deb ...\n",
      "Entpacken von python-xmltodict (0.9.0-1) ...\n",
      "Vormals nicht ausgewähltes Paket python-crypto wird gewählt.\n",
      "Vorbereitung zum Entpacken von .../python-crypto_2.6.1-5+deb8u1_armhf.deb ...\n",
      "Entpacken von python-crypto (2.6.1-5+deb8u1) ...\n",
      "Vormals nicht ausgewähltes Paket python-markupsafe wird gewählt.\n",
      "Vorbereitung zum Entpacken von .../python-markupsafe_0.23-1_armhf.deb ...\n",
      "Entpacken von python-markupsafe (0.23-1) ...\n",
      "Vormals nicht ausgewähltes Paket python-jinja2 wird gewählt.\n",
      "Vorbereitung zum Entpacken von .../python-jinja2_2.8-1~bpo8+1_all.deb ...\n",
      "Entpacken von python-jinja2 (2.8-1~bpo8+1) ...\n",
      "Vormals nicht ausgewähltes Paket python-six wird gewählt.\n",
      "Vorbereitung zum Entpacken von .../python-six_1.10.0-3~bpo8+1_all.deb ...\n",
      "Entpacken von python-six (1.10.0-3~bpo8+1) ...\n",
      "Vormals nicht ausgewähltes Paket python-ecdsa wird gewählt.\n",
      "Vorbereitung zum Entpacken von .../python-ecdsa_0.11-1_all.deb ...\n",
      "Entpacken von python-ecdsa (0.11-1) ...\n",
      "Vormals nicht ausgewähltes Paket python-paramiko wird gewählt.\n",
      "Vorbereitung zum Entpacken von .../python-paramiko_1.15.1-1_all.deb ...\n",
      "Entpacken von python-paramiko (1.15.1-1) ...\n",
      "Vormals nicht ausgewähltes Paket python-pkg-resources wird gewählt.\n",
      "Vorbereitung zum Entpacken von .../python-pkg-resources_33.1.1-1~bpo8+1_all.deb ...\n",
      "Entpacken von python-pkg-resources (33.1.1-1~bpo8+1) ...\n",
      "Vormals nicht ausgewähltes Paket python-yaml wird gewählt.\n",
      "Vorbereitung zum Entpacken von .../python-yaml_3.11-2_armhf.deb ...\n",
      "Entpacken von python-yaml (3.11-2) ...\n",
      "Vormals nicht ausgewähltes Paket python-httplib2 wird gewählt.\n",
      "Vorbereitung zum Entpacken von .../python-httplib2_0.9+dfsg-2_all.deb ...\n",
      "Entpacken von python-httplib2 (0.9+dfsg-2) ...\n",
      "Vormals nicht ausgewähltes Paket ieee-data wird gewählt.\n",
      "Vorbereitung zum Entpacken von .../ieee-data_20150531.1~deb8u2_all.deb ...\n",
      "Entpacken von ieee-data (20150531.1~deb8u2) ...\n",
      "Vormals nicht ausgewähltes Paket python-netaddr wird gewählt.\n",
      "Vorbereitung zum Entpacken von .../python-netaddr_0.7.18-1~bpo8+1_all.deb ...\n",
      "Entpacken von python-netaddr (0.7.18-1~bpo8+1) ...\n",
      "Vormals nicht ausgewähltes Paket ansible wird gewählt.\n",
      "Vorbereitung zum Entpacken von .../ansible_2.2.1.0-2~bpo8+1_all.deb ...\n",
      "Entpacken von ansible (2.2.1.0-2~bpo8+1) ...\n",
      "Vormals nicht ausgewähltes Paket python-kerberos wird gewählt.\n",
      "Vorbereitung zum Entpacken von .../python-kerberos_1.1.5-0.1+deb8u1_armhf.deb ...\n",
      "Entpacken von python-kerberos (1.1.5-0.1+deb8u1) ...\n",
      "Vormals nicht ausgewähltes Paket python-selinux wird gewählt.\n",
      "Vorbereitung zum Entpacken von .../python-selinux_2.3-2_armhf.deb ...\n",
      "Entpacken von python-selinux (2.3-2) ...\n",
      "Trigger für man-db (2.7.0.2-5) werden verarbeitet ...\n",
      "python-xmltodict (0.9.0-1) wird eingerichtet ...\n",
      "python-crypto (2.6.1-5+deb8u1) wird eingerichtet ...\n",
      "python-markupsafe (0.23-1) wird eingerichtet ...\n",
      "python-jinja2 (2.8-1~bpo8+1) wird eingerichtet ...\n",
      "python-six (1.10.0-3~bpo8+1) wird eingerichtet ...\n",
      "python-ecdsa (0.11-1) wird eingerichtet ...\n",
      "python-paramiko (1.15.1-1) wird eingerichtet ...\n",
      "python-pkg-resources (33.1.1-1~bpo8+1) wird eingerichtet ...\n",
      "python-yaml (3.11-2) wird eingerichtet ...\n",
      "python-httplib2 (0.9+dfsg-2) wird eingerichtet ...\n",
      "ieee-data (20150531.1~deb8u2) wird eingerichtet ...\n",
      "python-netaddr (0.7.18-1~bpo8+1) wird eingerichtet ...\n",
      "ansible (2.2.1.0-2~bpo8+1) wird eingerichtet ...\n",
      "python-kerberos (1.1.5-0.1+deb8u1) wird eingerichtet ...\n",
      "python-selinux (2.3-2) wird eingerichtet ...\n"
     ]
    }
   ],
   "source": [
    "sudo apt-get update && sudo apt-get -t jessie-backports install --yes --force-yes ansible"
   ]
  },
  {
   "cell_type": "code",
   "execution_count": 12,
   "metadata": {},
   "outputs": [
    {
     "name": "stdout",
     "output_type": "stream",
     "text": [
      "ansible 2.2.1.0\n",
      "  config file = /etc/ansible/ansible.cfg\n",
      "  configured module search path = Default w/o overrides\n"
     ]
    }
   ],
   "source": [
    "ansible --version"
   ]
  },
  {
   "cell_type": "code",
   "execution_count": 13,
   "metadata": {},
   "outputs": [
    {
     "name": "stdout",
     "output_type": "stream",
     "text": [
      "Paketlisten werden gelesen... Fertig\n",
      "Abhängigkeitsbaum wird aufgebaut.       \n",
      "Statusinformationen werden eingelesen.... Fertig\n",
      "Die folgenden zusätzlichen Pakete werden installiert:\n",
      "  python-isodate\n",
      "Vorgeschlagene Pakete:\n",
      "  filters\n",
      "Die folgenden NEUEN Pakete werden installiert:\n",
      "  cowsay python-isodate python-winrm sshpass\n",
      "0 aktualisiert, 4 neu installiert, 0 zu entfernen und 12 nicht aktualisiert.\n",
      "Es müssen 70,3 kB an Archiven heruntergeladen werden.\n",
      "Nach dieser Operation werden 354 kB Plattenplatz zusätzlich benutzt.\n",
      "Holen: 1 http://mirrordirector.raspbian.org/raspbian/ jessie/main cowsay all 3.03+dfsg1-10 [20,0 kB]\n",
      "Holen: 2 http://mirrordirector.raspbian.org/raspbian/ jessie/main python-isodate all 0.5.0-1 [22,4 kB]\n",
      "Holen: 3 http://mirrordirector.raspbian.org/raspbian/ stretch/main python-winrm all 0.0.3-1 [17,3 kB]\n",
      "Holen: 4 http://mirrordirector.raspbian.org/raspbian/ jessie/main sshpass armhf 1.05-1 [10,6 kB]\n",
      "Es wurden 70,3 kB in 0 s geholt (110 kB/s).\n",
      "debconf: unable to initialize frontend: Dialog\n",
      "debconf: (Dialog frontend will not work on a dumb terminal, an emacs shell buffer, or without a controlling terminal.)\n",
      "debconf: falling back to frontend: Readline\n",
      "Vormals nicht ausgewähltes Paket cowsay wird gewählt.\n",
      "(Lese Datenbank ... 75320 Dateien und Verzeichnisse sind derzeit installiert.)\n",
      "Vorbereitung zum Entpacken von .../cowsay_3.03+dfsg1-10_all.deb ...\n",
      "Entpacken von cowsay (3.03+dfsg1-10) ...\n",
      "Vormals nicht ausgewähltes Paket python-isodate wird gewählt.\n",
      "Vorbereitung zum Entpacken von .../python-isodate_0.5.0-1_all.deb ...\n",
      "Entpacken von python-isodate (0.5.0-1) ...\n",
      "Vormals nicht ausgewähltes Paket python-winrm wird gewählt.\n",
      "Vorbereitung zum Entpacken von .../python-winrm_0.0.3-1_all.deb ...\n",
      "Entpacken von python-winrm (0.0.3-1) ...\n",
      "Vormals nicht ausgewähltes Paket sshpass wird gewählt.\n",
      "Vorbereitung zum Entpacken von .../sshpass_1.05-1_armhf.deb ...\n",
      "Entpacken von sshpass (1.05-1) ...\n",
      "Trigger für man-db (2.7.0.2-5) werden verarbeitet ...\n",
      "cowsay (3.03+dfsg1-10) wird eingerichtet ...\n",
      "python-isodate (0.5.0-1) wird eingerichtet ...\n",
      "python-winrm (0.0.3-1) wird eingerichtet ...\n",
      "sshpass (1.05-1) wird eingerichtet ...\n"
     ]
    }
   ],
   "source": [
    "sudo apt-get install --yes cowsay sshpass python-winrm"
   ]
  },
  {
   "cell_type": "code",
   "execution_count": 14,
   "metadata": {},
   "outputs": [
    {
     "name": "stdout",
     "output_type": "stream",
     "text": [
      " [WARNING]: provided hosts list is empty, only localhost is available\n",
      "localhost | SUCCESS => {\n",
      "    \"changed\": false, \n",
      "    \"ping\": \"pong\"\n",
      "}\n"
     ]
    }
   ],
   "source": [
    "ansible -m ping localhost"
   ]
  },
  {
   "cell_type": "code",
   "execution_count": null,
   "metadata": {
    "collapsed": true
   },
   "outputs": [],
   "source": []
  }
 ],
 "metadata": {
  "kernelspec": {
   "display_name": "Bash",
   "language": "bash",
   "name": "bash"
  },
  "language_info": {
   "codemirror_mode": "shell",
   "file_extension": ".sh",
   "mimetype": "text/x-sh",
   "name": "bash"
  }
 },
 "nbformat": 4,
 "nbformat_minor": 2
}
